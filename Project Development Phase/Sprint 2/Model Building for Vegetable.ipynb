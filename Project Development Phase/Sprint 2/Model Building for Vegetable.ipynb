{
 "cells": [
  {
   "cell_type": "code",
   "execution_count": 1,
   "id": "d674a876",
   "metadata": {},
   "outputs": [],
   "source": [
    "from keras.preprocessing.image import ImageDataGenerator"
   ]
  },
  {
   "cell_type": "code",
   "execution_count": 2,
   "id": "b1074298",
   "metadata": {},
   "outputs": [],
   "source": [
    "train_datagen = ImageDataGenerator (rescale = 1./255, shear_range= 0.2,zoom_range= 0.2, horizontal_flip = True)"
   ]
  },
  {
   "cell_type": "code",
   "execution_count": 3,
   "id": "aefc5422",
   "metadata": {},
   "outputs": [],
   "source": [
    "test_datagen =ImageDataGenerator (rescale = 1)\n"
   ]
  },
  {
   "cell_type": "code",
   "execution_count": 4,
   "id": "5717adb6",
   "metadata": {},
   "outputs": [
    {
     "name": "stdout",
     "output_type": "stream",
     "text": [
      "Found 11386 images belonging to 9 classes.\n",
      "Found 3416 images belonging to 9 classes.\n"
     ]
    }
   ],
   "source": [
    "x_train = train_datagen.flow_from_directory(r'C:\\Users\\manoj\\Desktop\\Plant Disease\\Dataset Plant Disease\\Veg-dataset\\Veg-dataset\\train_set',target_size = (128,128), batch_size = 32, class_mode = 'categorical')\n",
    "x_test = test_datagen.flow_from_directory(r'C:\\Users\\manoj\\Desktop\\Plant Disease\\Dataset Plant Disease\\Veg-dataset\\Veg-dataset\\test_set',target_size = (128,128), batch_size = 32, class_mode = 'categorical')"
   ]
  },
  {
   "cell_type": "code",
   "execution_count": 5,
   "id": "040c7bcc",
   "metadata": {},
   "outputs": [],
   "source": [
    "from keras.models import Sequential\n",
    "from keras.layers import Dense\n",
    "from keras.layers import Convolution2D\n",
    "from keras.layers import MaxPooling2D\n",
    "from keras.layers import Flatten"
   ]
  },
  {
   "cell_type": "code",
   "execution_count": 6,
   "id": "1ed401e8",
   "metadata": {},
   "outputs": [],
   "source": [
    "model=Sequential()\n"
   ]
  },
  {
   "cell_type": "code",
   "execution_count": 7,
   "id": "f4236fd1",
   "metadata": {},
   "outputs": [],
   "source": [
    "model.add(Convolution2D(32,(3,3),input_shape = (128,128,3),activation = 'relu'))"
   ]
  },
  {
   "cell_type": "code",
   "execution_count": 8,
   "id": "0a9ea80c",
   "metadata": {},
   "outputs": [],
   "source": [
    "model.add(MaxPooling2D(pool_size = (2,2)))"
   ]
  },
  {
   "cell_type": "code",
   "execution_count": 9,
   "id": "dc470811",
   "metadata": {},
   "outputs": [],
   "source": [
    "model.add(Flatten())\n"
   ]
  },
  {
   "cell_type": "code",
   "execution_count": 10,
   "id": "711c8ad1",
   "metadata": {},
   "outputs": [],
   "source": [
    "model.add(Dense(units= 300, kernel_initializer ='uniform', activation = 'relu'))\n",
    "model.add(Dense(units= 150, kernel_initializer ='uniform', activation = 'relu'))  \n",
    "model.add(Dense(units= 9, activation='softmax', kernel_initializer ='random_uniform'))"
   ]
  },
  {
   "cell_type": "code",
   "execution_count": 11,
   "id": "f53ebdbe",
   "metadata": {},
   "outputs": [],
   "source": [
    "model.compile(loss ='categorical_crossentropy',optimizer = \"adam\",metrics = [\"accuracy\"])"
   ]
  },
  {
   "cell_type": "code",
   "execution_count": 12,
   "id": "a85d4bef",
   "metadata": {},
   "outputs": [
    {
     "name": "stderr",
     "output_type": "stream",
     "text": [
      "C:\\Users\\Public\\Documents\\Wondershare\\CreatorTemp\\ipykernel_16860\\4160098203.py:1: UserWarning: `Model.fit_generator` is deprecated and will be removed in a future version. Please use `Model.fit`, which supports generators.\n",
      "  model.fit_generator(x_train, steps_per_epoch = 89,epochs = 20,validation_data = x_test, validation_steps = 27)\n"
     ]
    },
    {
     "name": "stdout",
     "output_type": "stream",
     "text": [
      "Epoch 1/20\n",
      "89/89 [==============================] - 43s 475ms/step - loss: 1.8849 - accuracy: 0.3150 - val_loss: 278.2658 - val_accuracy: 0.2824\n",
      "Epoch 2/20\n",
      "89/89 [==============================] - 39s 439ms/step - loss: 1.2897 - accuracy: 0.5460 - val_loss: 569.0495 - val_accuracy: 0.3275\n",
      "Epoch 3/20\n",
      "89/89 [==============================] - 38s 426ms/step - loss: 1.0047 - accuracy: 0.6359 - val_loss: 854.4966 - val_accuracy: 0.2975\n",
      "Epoch 4/20\n",
      "89/89 [==============================] - 47s 529ms/step - loss: 0.8241 - accuracy: 0.7048 - val_loss: 1117.5928 - val_accuracy: 0.3206\n",
      "Epoch 5/20\n",
      "89/89 [==============================] - 43s 480ms/step - loss: 0.7546 - accuracy: 0.7268 - val_loss: 1034.1788 - val_accuracy: 0.3125\n",
      "Epoch 6/20\n",
      "89/89 [==============================] - 38s 429ms/step - loss: 0.6954 - accuracy: 0.7491 - val_loss: 1312.3201 - val_accuracy: 0.2627\n",
      "Epoch 7/20\n",
      "89/89 [==============================] - 38s 426ms/step - loss: 0.6068 - accuracy: 0.7837 - val_loss: 1526.4978 - val_accuracy: 0.2500\n",
      "Epoch 8/20\n",
      "89/89 [==============================] - 36s 406ms/step - loss: 0.5500 - accuracy: 0.8132 - val_loss: 1743.2844 - val_accuracy: 0.1840\n",
      "Epoch 9/20\n",
      "89/89 [==============================] - 36s 403ms/step - loss: 0.5074 - accuracy: 0.8157 - val_loss: 2456.3699 - val_accuracy: 0.1308\n",
      "Epoch 10/20\n",
      "89/89 [==============================] - 39s 439ms/step - loss: 0.5382 - accuracy: 0.7992 - val_loss: 1944.6533 - val_accuracy: 0.2326\n",
      "Epoch 11/20\n",
      "89/89 [==============================] - 37s 414ms/step - loss: 0.5105 - accuracy: 0.8213 - val_loss: 2062.2466 - val_accuracy: 0.1852\n",
      "Epoch 12/20\n",
      "89/89 [==============================] - 36s 407ms/step - loss: 0.4688 - accuracy: 0.8357 - val_loss: 1803.6727 - val_accuracy: 0.2512\n",
      "Epoch 13/20\n",
      "89/89 [==============================] - 39s 439ms/step - loss: 0.4128 - accuracy: 0.8553 - val_loss: 2747.0232 - val_accuracy: 0.1690\n",
      "Epoch 14/20\n",
      "89/89 [==============================] - 38s 432ms/step - loss: 0.4134 - accuracy: 0.8511 - val_loss: 2722.1682 - val_accuracy: 0.1806\n",
      "Epoch 15/20\n",
      "89/89 [==============================] - 37s 420ms/step - loss: 0.3600 - accuracy: 0.8732 - val_loss: 2982.6370 - val_accuracy: 0.1470\n",
      "Epoch 16/20\n",
      "89/89 [==============================] - 38s 421ms/step - loss: 0.4196 - accuracy: 0.8557 - val_loss: 2182.2363 - val_accuracy: 0.1944\n",
      "Epoch 17/20\n",
      "89/89 [==============================] - 37s 420ms/step - loss: 0.3775 - accuracy: 0.8697 - val_loss: 2137.5530 - val_accuracy: 0.2431\n",
      "Epoch 18/20\n",
      "89/89 [==============================] - 41s 459ms/step - loss: 0.3448 - accuracy: 0.8803 - val_loss: 2902.4119 - val_accuracy: 0.1493\n",
      "Epoch 19/20\n",
      "89/89 [==============================] - 39s 432ms/step - loss: 0.2972 - accuracy: 0.8940 - val_loss: 3210.2744 - val_accuracy: 0.1331\n",
      "Epoch 20/20\n",
      "89/89 [==============================] - 37s 415ms/step - loss: 0.2916 - accuracy: 0.8987 - val_loss: 3298.3718 - val_accuracy: 0.1493\n"
     ]
    },
    {
     "data": {
      "text/plain": [
       "<keras.callbacks.History at 0x20215f648e0>"
      ]
     },
     "execution_count": 12,
     "metadata": {},
     "output_type": "execute_result"
    }
   ],
   "source": [
    "model.fit_generator(x_train, steps_per_epoch = 89,epochs = 20,validation_data = x_test, validation_steps = 27)"
   ]
  },
  {
   "cell_type": "code",
   "execution_count": 30,
   "id": "1948ee53",
   "metadata": {},
   "outputs": [],
   "source": [
    "model.save(\"Vegetable.h5\")"
   ]
  },
  {
   "cell_type": "code",
   "execution_count": 31,
   "id": "45ad3034",
   "metadata": {},
   "outputs": [
    {
     "name": "stdout",
     "output_type": "stream",
     "text": [
      "Model: \"sequential_1\"\n",
      "_________________________________________________________________\n",
      " Layer (type)                Output Shape              Param #   \n",
      "=================================================================\n",
      " conv2d_1 (Conv2D)           (None, 126, 126, 32)      896       \n",
      "                                                                 \n",
      " max_pooling2d_1 (MaxPooling  (None, 63, 63, 32)       0         \n",
      " 2D)                                                             \n",
      "                                                                 \n",
      " flatten_1 (Flatten)         (None, 127008)            0         \n",
      "                                                                 \n",
      " dense_3 (Dense)             (None, 40)                5080360   \n",
      "                                                                 \n",
      " dense_4 (Dense)             (None, 20)                820       \n",
      "                                                                 \n",
      " dense_5 (Dense)             (None, 6)                 126       \n",
      "                                                                 \n",
      " dense_6 (Dense)             (None, 300)               2100      \n",
      "                                                                 \n",
      " dense_7 (Dense)             (None, 150)               45150     \n",
      "                                                                 \n",
      " dense_8 (Dense)             (None, 9)                 1359      \n",
      "                                                                 \n",
      "=================================================================\n",
      "Total params: 5,130,811\n",
      "Trainable params: 5,130,811\n",
      "Non-trainable params: 0\n",
      "_________________________________________________________________\n"
     ]
    }
   ],
   "source": [
    "model.summary()"
   ]
  },
  {
   "cell_type": "code",
   "execution_count": 32,
   "id": "6c1caa07",
   "metadata": {},
   "outputs": [],
   "source": [
    "import keras\n",
    "import tensorflow as tf\n",
    "from keras.preprocessing import image \n",
    "from tensorflow.keras.preprocessing.image import img_to_array\n",
    "from tensorflow.keras.models import load_model \n",
    "import numpy as np"
   ]
  },
  {
   "cell_type": "code",
   "execution_count": 33,
   "id": "53122a68",
   "metadata": {},
   "outputs": [],
   "source": [
    "model = load_model(\"Vegetable.h5\")"
   ]
  },
  {
   "cell_type": "code",
   "execution_count": 34,
   "id": "ffa74613",
   "metadata": {},
   "outputs": [],
   "source": [
    "img=keras.utils.load_img(r'C:\\Users\\manoj\\Desktop\\Plant Disease\\Dataset Plant Disease\\Veg-dataset\\Veg-dataset\\test_set\\Potato___healthy\\potatohealthy.JPG',target_size =(128,128))"
   ]
  },
  {
   "cell_type": "code",
   "execution_count": 35,
   "id": "a19a23c0",
   "metadata": {},
   "outputs": [],
   "source": [
    "x = tf.keras.utils.img_to_array(img) \n",
    "x = np.expand_dims(x,axis= 0)"
   ]
  },
  {
   "cell_type": "code",
   "execution_count": 36,
   "id": "46f068c8",
   "metadata": {},
   "outputs": [
    {
     "name": "stdout",
     "output_type": "stream",
     "text": [
      "1/1 [==============================] - 0s 180ms/step\n"
     ]
    }
   ],
   "source": [
    "pred = np.argmax(model.predict(x),axis=1)"
   ]
  },
  {
   "cell_type": "code",
   "execution_count": 37,
   "id": "f334f004",
   "metadata": {},
   "outputs": [
    {
     "data": {
      "text/plain": [
       "array([5], dtype=int64)"
      ]
     },
     "execution_count": 37,
     "metadata": {},
     "output_type": "execute_result"
    }
   ],
   "source": [
    "pred\n"
   ]
  },
  {
   "cell_type": "code",
   "execution_count": null,
   "id": "6b174286",
   "metadata": {},
   "outputs": [],
   "source": []
  }
 ],
 "metadata": {
  "kernelspec": {
   "display_name": "Python 3 (ipykernel)",
   "language": "python",
   "name": "python3"
  },
  "language_info": {
   "codemirror_mode": {
    "name": "ipython",
    "version": 3
   },
   "file_extension": ".py",
   "mimetype": "text/x-python",
   "name": "python",
   "nbconvert_exporter": "python",
   "pygments_lexer": "ipython3",
   "version": "3.9.13"
  }
 },
 "nbformat": 4,
 "nbformat_minor": 5
}
